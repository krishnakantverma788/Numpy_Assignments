{
 "cells": [
  {
   "cell_type": "markdown",
   "id": "d154adff",
   "metadata": {},
   "source": [
    "## 1. Create a null vector of size 10 but the fifth value which is 1.\n"
   ]
  },
  {
   "cell_type": "code",
   "execution_count": 1,
   "id": "be108bcf",
   "metadata": {},
   "outputs": [],
   "source": [
    "import numpy as np"
   ]
  },
  {
   "cell_type": "code",
   "execution_count": 3,
   "id": "2488b512",
   "metadata": {},
   "outputs": [
    {
     "name": "stdout",
     "output_type": "stream",
     "text": [
      "[0 0 0 0 1 0 0 0 0 0]\n"
     ]
    }
   ],
   "source": [
    "Null_vec = np.array([int(x==4) for x in range(10)])\n",
    "print(Null_vec)"
   ]
  },
  {
   "cell_type": "code",
   "execution_count": null,
   "id": "a5bb1773",
   "metadata": {},
   "outputs": [],
   "source": []
  },
  {
   "cell_type": "markdown",
   "id": "851459f8",
   "metadata": {},
   "source": [
    "## Create a vector with values ranging from 10 to 49"
   ]
  },
  {
   "cell_type": "code",
   "execution_count": 9,
   "id": "949370b2",
   "metadata": {},
   "outputs": [
    {
     "name": "stdout",
     "output_type": "stream",
     "text": [
      "[10 11 12 13 14 15 16 17 18 19 20 21 22 23 24 25 26 27 28 29 30 31 32 33\n",
      " 34 35 36 37 38 39 40 41 42 43 44 45 46 47 48 49]\n"
     ]
    }
   ],
   "source": [
    "Vector = np.arange(10,50)\n",
    "print(Vector)"
   ]
  },
  {
   "cell_type": "code",
   "execution_count": null,
   "id": "e8fd9764",
   "metadata": {},
   "outputs": [],
   "source": []
  },
  {
   "cell_type": "markdown",
   "id": "1c4ad793",
   "metadata": {},
   "source": [
    "## 3. Create a 3x3 matrix with values ranging from 0 to 8\n"
   ]
  },
  {
   "cell_type": "code",
   "execution_count": 16,
   "id": "57e98ce9",
   "metadata": {},
   "outputs": [
    {
     "data": {
      "text/plain": [
       "array([[0, 1, 2],\n",
       "       [3, 4, 5],\n",
       "       [6, 7, 8]])"
      ]
     },
     "execution_count": 16,
     "metadata": {},
     "output_type": "execute_result"
    }
   ],
   "source": [
    "Matrix = np.arange(0,9).reshape(3,3)\n",
    "Matrix"
   ]
  },
  {
   "cell_type": "code",
   "execution_count": null,
   "id": "a096dfc8",
   "metadata": {},
   "outputs": [],
   "source": []
  },
  {
   "cell_type": "markdown",
   "id": "71a9c423",
   "metadata": {},
   "source": [
    "## 4. Find indices of non-zero elements from [1,2,0,0,4,0]"
   ]
  },
  {
   "cell_type": "code",
   "execution_count": 17,
   "id": "125595a4",
   "metadata": {},
   "outputs": [
    {
     "name": "stdout",
     "output_type": "stream",
     "text": [
      "indices of non-zero elements are: (array([0, 1, 4], dtype=int64),)\n"
     ]
    }
   ],
   "source": [
    "indices =np.array([1,2,0,0,4,0])\n",
    "print(\"indices of non-zero elements are:\",np.nonzero(indices))"
   ]
  },
  {
   "cell_type": "code",
   "execution_count": null,
   "id": "630a815b",
   "metadata": {},
   "outputs": [],
   "source": []
  },
  {
   "cell_type": "markdown",
   "id": "53e4a079",
   "metadata": {},
   "source": [
    "## Create a 10x10 array with random values and find the minimum and maximum values."
   ]
  },
  {
   "cell_type": "code",
   "execution_count": 20,
   "id": "bf0028ae",
   "metadata": {},
   "outputs": [
    {
     "name": "stdout",
     "output_type": "stream",
     "text": [
      "Minimum vales: 0.007027270913133377\n",
      "Maximum values: 0.9933313312020385\n",
      "[[0.24185288 0.14189642 0.39888338 0.69640972 0.66671361 0.16662461\n",
      "  0.39827279 0.02238677 0.94364454 0.50852662]\n",
      " [0.90049154 0.95511557 0.6244885  0.87322512 0.65644512 0.70152335\n",
      "  0.70090705 0.72092332 0.53832054 0.36860784]\n",
      " [0.84749829 0.2827744  0.77418344 0.00702727 0.71639558 0.63427524\n",
      "  0.90729185 0.58646785 0.83222198 0.58853356]\n",
      " [0.09431947 0.13918968 0.56687092 0.89346572 0.95207057 0.11567897\n",
      "  0.57644065 0.62789818 0.01161542 0.71127701]\n",
      " [0.64895498 0.59841629 0.75375553 0.45365909 0.31845821 0.170008\n",
      "  0.51173718 0.6824898  0.06149173 0.99333133]\n",
      " [0.15776865 0.71027551 0.66574754 0.98288514 0.87015765 0.02053571\n",
      "  0.78346351 0.11223683 0.89165021 0.25589486]\n",
      " [0.50704141 0.7732669  0.54470962 0.16748864 0.50276103 0.67407627\n",
      "  0.70442184 0.83128857 0.11244811 0.57777128]\n",
      " [0.7642295  0.26120608 0.04714552 0.03520344 0.94369284 0.32795492\n",
      "  0.48261031 0.95963569 0.75412744 0.53107946]\n",
      " [0.55781451 0.02527109 0.03447296 0.49085169 0.87334662 0.04682913\n",
      "  0.47444731 0.0140676  0.74985842 0.2057108 ]\n",
      " [0.71418457 0.12978896 0.26709069 0.97153283 0.05001807 0.81564969\n",
      "  0.77925706 0.72657167 0.17781841 0.05952565]]\n"
     ]
    }
   ],
   "source": [
    "import random\n",
    "random.seed(10)\n",
    "x=np.random.random(size=(10,10))\n",
    "print(\"Minimum vales:\",x.min())\n",
    "print(\"Maximum values:\",x.max())\n",
    "print(x)"
   ]
  },
  {
   "cell_type": "code",
   "execution_count": null,
   "id": "9f40bd28",
   "metadata": {},
   "outputs": [],
   "source": []
  },
  {
   "cell_type": "markdown",
   "id": "420a153f",
   "metadata": {},
   "source": [
    "## 6. Create a random vector of size 30 and find the mean value.\n"
   ]
  },
  {
   "cell_type": "code",
   "execution_count": 21,
   "id": "8aad711c",
   "metadata": {},
   "outputs": [
    {
     "name": "stdout",
     "output_type": "stream",
     "text": [
      "mean: 0.5257373809453403\n"
     ]
    }
   ],
   "source": [
    "ran_vec=np.random.random((5,6))\n",
    "Mean_val =np.mean(ran_vec)\n",
    "print(\"mean:\",Mean_val)"
   ]
  },
  {
   "cell_type": "code",
   "execution_count": null,
   "id": "d5e039e1",
   "metadata": {},
   "outputs": [],
   "source": []
  }
 ],
 "metadata": {
  "kernelspec": {
   "display_name": "Python 3",
   "language": "python",
   "name": "python3"
  },
  "language_info": {
   "codemirror_mode": {
    "name": "ipython",
    "version": 3
   },
   "file_extension": ".py",
   "mimetype": "text/x-python",
   "name": "python",
   "nbconvert_exporter": "python",
   "pygments_lexer": "ipython3",
   "version": "3.8.8"
  }
 },
 "nbformat": 4,
 "nbformat_minor": 5
}
